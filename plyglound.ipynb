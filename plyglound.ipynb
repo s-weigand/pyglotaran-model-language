{
 "cells": [
  {
   "cell_type": "code",
   "execution_count": null,
   "metadata": {},
   "outputs": [],
   "source": [
    "from pyglotaran_model_language.top_level.clp_relation import ClpRelation"
   ]
  },
  {
   "cell_type": "code",
   "execution_count": null,
   "metadata": {},
   "outputs": [],
   "source": [
    "ClpRelation.__annotations__[\"source\"]"
   ]
  },
  {
   "cell_type": "code",
   "execution_count": null,
   "metadata": {},
   "outputs": [],
   "source": [
    "dir(ClpRelation)"
   ]
  },
  {
   "cell_type": "code",
   "execution_count": 12,
   "metadata": {},
   "outputs": [
    {
     "data": {
      "text/html": [
       "<pre style=\"white-space:pre;overflow-x:auto;line-height:normal;font-family:Menlo,'DejaVu Sans Mono',consolas,'Courier New',monospace\"><span style=\"font-weight: bold\">{</span>\n",
       "    <span style=\"color: #008000; text-decoration-color: #008000\">'title'</span>: <span style=\"color: #008000; text-decoration-color: #008000\">'Foo'</span>,\n",
       "    <span style=\"color: #008000; text-decoration-color: #008000\">'description'</span>: <span style=\"color: #008000; text-decoration-color: #008000\">'Base class for model items ensuring that they have properties returning all the used labels.'</span>,\n",
       "    <span style=\"color: #008000; text-decoration-color: #008000\">'type'</span>: <span style=\"color: #008000; text-decoration-color: #008000\">'object'</span>,\n",
       "    <span style=\"color: #008000; text-decoration-color: #008000\">'properties'</span>: <span style=\"font-weight: bold\">{</span>\n",
       "        <span style=\"color: #008000; text-decoration-color: #008000\">'type'</span>: <span style=\"font-weight: bold\">{</span><span style=\"color: #008000; text-decoration-color: #008000\">'title'</span>: <span style=\"color: #008000; text-decoration-color: #008000\">'Type'</span>, <span style=\"color: #008000; text-decoration-color: #008000\">'description'</span>: <span style=\"color: #008000; text-decoration-color: #008000\">'Required'</span>, <span style=\"color: #008000; text-decoration-color: #008000\">'enum'</span>: <span style=\"font-weight: bold\">[</span><span style=\"color: #008000; text-decoration-color: #008000\">'foo'</span>, <span style=\"color: #008000; text-decoration-color: #008000\">'bar'</span><span style=\"font-weight: bold\">]</span>, <span style=\"color: #008000; text-decoration-color: #008000\">'type'</span>: <span style=\"color: #008000; text-decoration-color: #008000\">'string'</span><span style=\"font-weight: bold\">}</span>,\n",
       "        <span style=\"color: #008000; text-decoration-color: #008000\">'foo'</span>: <span style=\"font-weight: bold\">{</span><span style=\"color: #008000; text-decoration-color: #008000\">'title'</span>: <span style=\"color: #008000; text-decoration-color: #008000\">'Foo'</span>, <span style=\"color: #008000; text-decoration-color: #008000\">'__hidden__'</span>: <span style=\"color: #008000; text-decoration-color: #008000\">'__foo__'</span>, <span style=\"color: #008000; text-decoration-color: #008000\">'type'</span>: <span style=\"color: #008000; text-decoration-color: #008000\">'array'</span>, <span style=\"color: #008000; text-decoration-color: #008000\">'items'</span>: <span style=\"font-weight: bold\">{</span><span style=\"color: #008000; text-decoration-color: #008000\">'type'</span>: <span style=\"color: #008000; text-decoration-color: #008000\">'string'</span><span style=\"font-weight: bold\">}}</span>\n",
       "    <span style=\"font-weight: bold\">}</span>,\n",
       "    <span style=\"color: #008000; text-decoration-color: #008000\">'required'</span>: <span style=\"font-weight: bold\">[</span><span style=\"color: #008000; text-decoration-color: #008000\">'type'</span>, <span style=\"color: #008000; text-decoration-color: #008000\">'foo'</span><span style=\"font-weight: bold\">]</span>\n",
       "<span style=\"font-weight: bold\">}</span>\n",
       "</pre>\n"
      ],
      "text/plain": [
       "\u001b[1m{\u001b[0m\n",
       "    \u001b[32m'title'\u001b[0m: \u001b[32m'Foo'\u001b[0m,\n",
       "    \u001b[32m'description'\u001b[0m: \u001b[32m'Base class for model items ensuring that they have properties returning all the used labels.'\u001b[0m,\n",
       "    \u001b[32m'type'\u001b[0m: \u001b[32m'object'\u001b[0m,\n",
       "    \u001b[32m'properties'\u001b[0m: \u001b[1m{\u001b[0m\n",
       "        \u001b[32m'type'\u001b[0m: \u001b[1m{\u001b[0m\u001b[32m'title'\u001b[0m: \u001b[32m'Type'\u001b[0m, \u001b[32m'description'\u001b[0m: \u001b[32m'Required'\u001b[0m, \u001b[32m'enum'\u001b[0m: \u001b[1m[\u001b[0m\u001b[32m'foo'\u001b[0m, \u001b[32m'bar'\u001b[0m\u001b[1m]\u001b[0m, \u001b[32m'type'\u001b[0m: \u001b[32m'string'\u001b[0m\u001b[1m}\u001b[0m,\n",
       "        \u001b[32m'foo'\u001b[0m: \u001b[1m{\u001b[0m\u001b[32m'title'\u001b[0m: \u001b[32m'Foo'\u001b[0m, \u001b[32m'__hidden__'\u001b[0m: \u001b[32m'__foo__'\u001b[0m, \u001b[32m'type'\u001b[0m: \u001b[32m'array'\u001b[0m, \u001b[32m'items'\u001b[0m: \u001b[1m{\u001b[0m\u001b[32m'type'\u001b[0m: \u001b[32m'string'\u001b[0m\u001b[1m}\u001b[0m\u001b[1m}\u001b[0m\n",
       "    \u001b[1m}\u001b[0m,\n",
       "    \u001b[32m'required'\u001b[0m: \u001b[1m[\u001b[0m\u001b[32m'type'\u001b[0m, \u001b[32m'foo'\u001b[0m\u001b[1m]\u001b[0m\n",
       "\u001b[1m}\u001b[0m\n"
      ]
     },
     "metadata": {},
     "output_type": "display_data"
    }
   ],
   "source": [
    "from pydantic import Field, Extra\n",
    "from pyglotaran_model_language.model_item_base import ModelItemBase\n",
    "from pyglotaran_model_language.label_types import ParameterLabel\n",
    "import abc\n",
    "from typing import Literal, cast, Any\n",
    "\n",
    "class Foo(ModelItemBase):\n",
    "    type: Literal[\"foo\",\"bar\"] = Field(\"foo\", const=True, description=\"Required\")\n",
    "    foo: list[ParameterLabel] = Field(__hidden__=\"__foo__\")\n",
    "    \n",
    "    @property\n",
    "    def parameter_labels(self) -> set[ParameterLabel]:\n",
    "        return set(self.foo)\n",
    "    \n",
    "    class Config:\n",
    "        @staticmethod\n",
    "        def schema_extra(schema: dict[str, Any], model: type[\"ModelItemBase\"]) -> None:\n",
    "            for key, val in schema.get(\"properties\", {}).items():\n",
    "                if key == \"type\":\n",
    "                    val.pop(\"default\", None)\n",
    "                    val.pop(\"const\", None)\n",
    "                    required_fields = schema.get(\"required\", [])\n",
    "                    schema[\"required\"] = [\"type\", *required_fields]\n",
    "\n",
    "    \n",
    "# foo = Foo(foo=[\"1\",\"2\"])\n",
    "foo = Foo(type=\"foo\",foo=[ParameterLabel(\"1\")])\n",
    "foo\n",
    "from rich import print as pprint\n",
    "pprint(Foo.schema())\n"
   ]
  },
  {
   "cell_type": "code",
   "execution_count": null,
   "metadata": {},
   "outputs": [],
   "source": [
    "Foo.__fields__[\"type\"].type_"
   ]
  },
  {
   "cell_type": "code",
   "execution_count": null,
   "metadata": {},
   "outputs": [],
   "source": [
    "Foo.__fields__[\"foo\"].annotation in (ParameterLabel, list[ParameterLabel])"
   ]
  },
  {
   "cell_type": "code",
   "execution_count": null,
   "metadata": {},
   "outputs": [],
   "source": [
    "type(list[ParameterLabel])"
   ]
  },
  {
   "cell_type": "code",
   "execution_count": null,
   "metadata": {},
   "outputs": [],
   "source": [
    "Foo.__fields__[\"type\"].annotation"
   ]
  },
  {
   "cell_type": "code",
   "execution_count": null,
   "metadata": {},
   "outputs": [],
   "source": [
    "Foo.__annotations__[\"foo\"]"
   ]
  },
  {
   "cell_type": "code",
   "execution_count": null,
   "metadata": {},
   "outputs": [],
   "source": [
    "ParameterLabel == Foo.__annotations__[\"foo\"]"
   ]
  },
  {
   "cell_type": "code",
   "execution_count": null,
   "metadata": {},
   "outputs": [],
   "source": [
    "Foo.__annotations__[\"foo\"]"
   ]
  },
  {
   "cell_type": "code",
   "execution_count": null,
   "metadata": {},
   "outputs": [],
   "source": [
    "\"ParameterLabel\" in repr(Foo.__annotations__.values())"
   ]
  },
  {
   "cell_type": "code",
   "execution_count": null,
   "metadata": {},
   "outputs": [],
   "source": [
    "Foo.__class__.__qualname__"
   ]
  },
  {
   "cell_type": "code",
   "execution_count": null,
   "metadata": {},
   "outputs": [],
   "source": [
    "import inspect\n",
    "from pydantic import BaseModel\n",
    "\n",
    "inspect.signature(Foo.__init_subclass__)"
   ]
  },
  {
   "cell_type": "code",
   "execution_count": null,
   "metadata": {},
   "outputs": [],
   "source": [
    "Foo.schema()"
   ]
  },
  {
   "cell_type": "markdown",
   "metadata": {},
   "source": [
    "# Jörn stuff"
   ]
  },
  {
   "cell_type": "code",
   "execution_count": null,
   "metadata": {},
   "outputs": [],
   "source": [
    "\"\"\"This module contains the item classes and helper functions.\"\"\"\n",
    "import contextlib\n",
    "from dataclasses import MISSING\n",
    "from functools import cache\n",
    "from inspect import getmro\n",
    "from inspect import isclass\n",
    "from types import NoneType\n",
    "from types import UnionType\n",
    "from typing import ClassVar\n",
    "from typing import Generator\n",
    "from typing import Type\n",
    "from typing import TypeAlias\n",
    "from typing import TypeVar\n",
    "from typing import Union\n",
    "from typing import get_args\n",
    "from typing import get_origin\n",
    "\n",
    "from pydantic import BaseModel\n",
    "from pydantic import Field\n",
    "\n",
    "from glotaran.parameter import Parameter\n",
    "\n",
    "ItemT = TypeVar(\"ItemT\", bound=\"Item\")\n",
    "ModelItemT = TypeVar(\"ModelItemT\", bound=\"ModelItem\")\n",
    "\n",
    "ParameterType: TypeAlias = Parameter | str\n",
    "ModelItemType: TypeAlias = ModelItemT | str  # type:ignore[operator]\n",
    "\n",
    "__DATACLASS_ARGS = {\"kw_only\": True, \"config\": {\"arbitrary_types_allowed\": True}}\n",
    "META_ALIAS = \"__glotaran_alias__\"\n",
    "META_VALIDATOR = \"__glotaran_validator__\"\n",
    "\n",
    "\n",
    "class Item(BaseModel):\n",
    "    \"\"\"A baseclass for items.\"\"\"\n",
    "\n",
    "    class Config:\n",
    "        arbitrary_types_allowed = True\n",
    "        \n",
    "        \n",
    "\n",
    "\n",
    "class TypedItem(Item):\n",
    "    \"\"\"An item with a type.\"\"\"\n",
    "\n",
    "    type: str\n",
    "    __item_types__: ClassVar[dict[str, Type]]\n",
    "\n",
    "    def __init_subclass__(cls: type[\"TypedItem\"]):\n",
    "        \"\"\"Create an item from a class.\n",
    "\n",
    "        Parameters\n",
    "        ----------\n",
    "        cls: type[ItemT]\n",
    "            The class.\n",
    "\n",
    "        Returns\n",
    "        -------\n",
    "        type[ItemT]\n",
    "        \"\"\"\n",
    "        if cls.__qualname__ == \"ModelItemTyped\":\n",
    "            return\n",
    "        parent = getmro(cls)[1]\n",
    "        if parent in (TypedItem, ModelItemTyped):\n",
    "            assert issubclass(cls, TypedItem)\n",
    "            cls.__item_types__ = {}\n",
    "        elif issubclass(cls, TypedItem):\n",
    "            cls._register_item_class()\n",
    "\n",
    "    @classmethod\n",
    "    def _register_item_class(cls):\n",
    "        \"\"\"Register a class as type.\"\"\"\n",
    "        item_type = cls.get_item_type()\n",
    "        if item_type is not MISSING:\n",
    "            cls.__item_types__[item_type] = cls\n",
    "\n",
    "    @classmethod\n",
    "    def get_item_type(cls) -> str:\n",
    "        \"\"\"Get the type string.\n",
    "\n",
    "        Returns\n",
    "        -------\n",
    "        str\n",
    "        \"\"\"\n",
    "        return cls.__fields__[\"type\"].default\n",
    "\n",
    "    @classmethod\n",
    "    def get_item_types(cls) -> list[str]:\n",
    "        \"\"\"Get all type strings.\n",
    "\n",
    "        Returns\n",
    "        -------\n",
    "        list[str]\n",
    "        \"\"\"\n",
    "        return list(cls.__item_types__.keys())\n",
    "\n",
    "    @classmethod\n",
    "    def get_item_type_class(cls, item_type: str) -> Type:\n",
    "        \"\"\"Get the type for a type string.\n",
    "\n",
    "        Parameters\n",
    "        ----------\n",
    "        item_type: str\n",
    "            The type string.\n",
    "        Returns\n",
    "        -------\n",
    "        Type\n",
    "        \"\"\"\n",
    "        return cls.__item_types__[item_type]\n",
    "\n",
    "\n",
    "class ModelItem(Item):\n",
    "    \"\"\"An item with a label.\n",
    "\n",
    "    Attributes\n",
    "    ----------\n",
    "    label : str\n",
    "        The label of the model item.\n",
    "    \"\"\"\n",
    "\n",
    "    label: str\n",
    "\n",
    "\n",
    "class ModelItemTyped(TypedItem, ModelItem):\n",
    "    \"\"\"A model item with a type.\"\"\"\n",
    "\n",
    "\n",
    "class MockModelItem(ModelItem):\n",
    "    pass\n",
    "        \n",
    "class MockItem(Item):\n",
    "    cscalar: int\n",
    "    cscalar_option: int | None\n",
    "    clist: list[int]\n",
    "    clist_option: list[int] | None\n",
    "    cdict: dict[str, int]\n",
    "    cdict_option: dict[str, int] | None\n",
    "    iscalar: ModelItemType[MockModelItem]\n",
    "    iscalar_option: ModelItemType[MockModelItem] | None\n",
    "    ilist: list[ModelItemType[MockModelItem]]\n",
    "    ilist_option: list[ModelItemType[MockModelItem]] | None\n",
    "    idict: dict[str, ModelItemType[MockModelItem]]\n",
    "    idict_option: dict[str, ModelItemType[MockModelItem]] | None\n",
    "    pscalar: ParameterType\n",
    "    pscalar_option: ParameterType | None\n",
    "    plist: list[ParameterType]\n",
    "    plist_option: list[ParameterType] | None\n",
    "    pdict: dict[str, ParameterType]\n",
    "    pdict_option: dict[str, ParameterType] | None\n",
    "\n",
    "\n",
    "@cache\n",
    "def get_structure_and_type_from_field(field: Field) -> tuple[None | list | dict, type]:\n",
    "    \"\"\"Get the structure and type from a field.\n",
    "\n",
    "    Parameters\n",
    "    ----------\n",
    "    field: Field\n",
    "        The field.\n",
    "\n",
    "    Returns\n",
    "    -------\n",
    "    tuple[None | list | dict, type]:\n",
    "        The structure and type as atuple.\n",
    "    \"\"\"\n",
    "    print(field.name)\n",
    "    print(field.type_)\n",
    "    definition = strip_option_type_from_definition(field.type_)\n",
    "    print(definition)\n",
    "    structure, definition = strip_structure_type_from_definition(definition)\n",
    "    definition = strip_option_type_from_definition(definition, strip_type=str)\n",
    "    return structure, definition"
   ]
  },
  {
   "cell_type": "code",
   "execution_count": null,
   "metadata": {},
   "outputs": [],
   "source": [
    "get_structure_and_type_from_field(MockItem.__fields__[\"clist\"])"
   ]
  },
  {
   "cell_type": "code",
   "execution_count": null,
   "metadata": {},
   "outputs": [],
   "source": [
    "MockItem.__fields__[\"clist\"].type_"
   ]
  },
  {
   "cell_type": "code",
   "execution_count": null,
   "metadata": {},
   "outputs": [],
   "source": [
    "MockItem.__fields__[\"clist\"]"
   ]
  },
  {
   "cell_type": "code",
   "execution_count": null,
   "metadata": {},
   "outputs": [],
   "source": [
    "MockItem.__fields__[\"clist\"].annotation"
   ]
  },
  {
   "cell_type": "code",
   "execution_count": null,
   "metadata": {},
   "outputs": [],
   "source": [
    "MockItem.__fields__[\"clist\"].annotation == list[int]"
   ]
  },
  {
   "cell_type": "code",
   "execution_count": null,
   "metadata": {},
   "outputs": [],
   "source": [
    "from pydantic.fields import Undefined"
   ]
  },
  {
   "cell_type": "code",
   "execution_count": null,
   "metadata": {},
   "outputs": [],
   "source": []
  }
 ],
 "metadata": {
  "kernelspec": {
   "display_name": "Python 3.10.6 ('pyglotaran310')",
   "language": "python",
   "name": "python3"
  },
  "language_info": {
   "codemirror_mode": {
    "name": "ipython",
    "version": 3
   },
   "file_extension": ".py",
   "mimetype": "text/x-python",
   "name": "python",
   "nbconvert_exporter": "python",
   "pygments_lexer": "ipython3",
   "version": "3.10.6"
  },
  "orig_nbformat": 4,
  "vscode": {
   "interpreter": {
    "hash": "3731ce72dbd91e4f192785b744e81c0f8b70f4bed0bf93b29715722e6acba1b3"
   }
  }
 },
 "nbformat": 4,
 "nbformat_minor": 2
}
